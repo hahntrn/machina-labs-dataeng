{
 "cells": [
  {
   "cell_type": "code",
   "execution_count": 2,
   "metadata": {},
   "outputs": [],
   "source": [
    "import pandas as pd\n",
    "import numpy as np\n",
    "from datetime import datetime\n",
    "import matplotlib.pyplot as plt\n",
    "import re\n",
    "df = pd.read_parquet('../data/sample.parquet', engine='pyarrow')"
   ]
  },
  {
   "cell_type": "code",
   "execution_count": 3,
   "metadata": {},
   "outputs": [],
   "source": [
    "df.to_csv('../data/sample.csv', index=True)"
   ]
  },
  {
   "cell_type": "code",
   "execution_count": 52,
   "metadata": {},
   "outputs": [
    {
     "data": {
      "text/html": [
       "<div>\n",
       "<style scoped>\n",
       "    .dataframe tbody tr th:only-of-type {\n",
       "        vertical-align: middle;\n",
       "    }\n",
       "\n",
       "    .dataframe tbody tr th {\n",
       "        vertical-align: top;\n",
       "    }\n",
       "\n",
       "    .dataframe thead th {\n",
       "        text-align: right;\n",
       "    }\n",
       "</style>\n",
       "<table border=\"1\" class=\"dataframe\">\n",
       "  <thead>\n",
       "    <tr style=\"text-align: right;\">\n",
       "      <th></th>\n",
       "      <th>time</th>\n",
       "      <th>value</th>\n",
       "      <th>field</th>\n",
       "      <th>robot_id</th>\n",
       "      <th>run_uuid</th>\n",
       "      <th>sensor_type</th>\n",
       "    </tr>\n",
       "  </thead>\n",
       "  <tbody>\n",
       "    <tr>\n",
       "      <th>0</th>\n",
       "      <td>2022-11-23T20:40:00.005Z</td>\n",
       "      <td>821.780800</td>\n",
       "      <td>x</td>\n",
       "      <td>1</td>\n",
       "      <td>8.910096e+18</td>\n",
       "      <td>encoder</td>\n",
       "    </tr>\n",
       "    <tr>\n",
       "      <th>1</th>\n",
       "      <td>2022-11-23T20:40:00.017Z</td>\n",
       "      <td>821.821700</td>\n",
       "      <td>x</td>\n",
       "      <td>1</td>\n",
       "      <td>8.910096e+18</td>\n",
       "      <td>encoder</td>\n",
       "    </tr>\n",
       "    <tr>\n",
       "      <th>2</th>\n",
       "      <td>2022-11-23T20:40:00.029Z</td>\n",
       "      <td>821.850700</td>\n",
       "      <td>x</td>\n",
       "      <td>1</td>\n",
       "      <td>8.910096e+18</td>\n",
       "      <td>encoder</td>\n",
       "    </tr>\n",
       "    <tr>\n",
       "      <th>3</th>\n",
       "      <td>2022-11-23T20:40:00.041Z</td>\n",
       "      <td>821.896400</td>\n",
       "      <td>x</td>\n",
       "      <td>1</td>\n",
       "      <td>8.910096e+18</td>\n",
       "      <td>encoder</td>\n",
       "    </tr>\n",
       "    <tr>\n",
       "      <th>4</th>\n",
       "      <td>2022-11-23T20:40:00.053Z</td>\n",
       "      <td>821.957300</td>\n",
       "      <td>x</td>\n",
       "      <td>1</td>\n",
       "      <td>8.910096e+18</td>\n",
       "      <td>encoder</td>\n",
       "    </tr>\n",
       "    <tr>\n",
       "      <th>...</th>\n",
       "      <td>...</td>\n",
       "      <td>...</td>\n",
       "      <td>...</td>\n",
       "      <td>...</td>\n",
       "      <td>...</td>\n",
       "      <td>...</td>\n",
       "    </tr>\n",
       "    <tr>\n",
       "      <th>1546586</th>\n",
       "      <td>2022-11-23T20:41:17.59Z</td>\n",
       "      <td>-85.692373</td>\n",
       "      <td>fx</td>\n",
       "      <td>1</td>\n",
       "      <td>1.240519e+19</td>\n",
       "      <td>load_cell</td>\n",
       "    </tr>\n",
       "    <tr>\n",
       "      <th>1546587</th>\n",
       "      <td>2022-11-23T20:41:17.6Z</td>\n",
       "      <td>-87.231436</td>\n",
       "      <td>fx</td>\n",
       "      <td>1</td>\n",
       "      <td>1.240519e+19</td>\n",
       "      <td>load_cell</td>\n",
       "    </tr>\n",
       "    <tr>\n",
       "      <th>1546588</th>\n",
       "      <td>2022-11-23T20:41:17.61Z</td>\n",
       "      <td>-85.649405</td>\n",
       "      <td>fx</td>\n",
       "      <td>1</td>\n",
       "      <td>1.240519e+19</td>\n",
       "      <td>load_cell</td>\n",
       "    </tr>\n",
       "    <tr>\n",
       "      <th>1546589</th>\n",
       "      <td>2022-11-23T20:41:17.62Z</td>\n",
       "      <td>-86.430655</td>\n",
       "      <td>fx</td>\n",
       "      <td>1</td>\n",
       "      <td>1.240519e+19</td>\n",
       "      <td>load_cell</td>\n",
       "    </tr>\n",
       "    <tr>\n",
       "      <th>1546590</th>\n",
       "      <td>2022-11-23T20:41:17.63Z</td>\n",
       "      <td>-86.477530</td>\n",
       "      <td>fx</td>\n",
       "      <td>1</td>\n",
       "      <td>1.240519e+19</td>\n",
       "      <td>load_cell</td>\n",
       "    </tr>\n",
       "  </tbody>\n",
       "</table>\n",
       "<p>1546591 rows × 6 columns</p>\n",
       "</div>"
      ],
      "text/plain": [
       "                             time       value field  robot_id      run_uuid  \\\n",
       "0        2022-11-23T20:40:00.005Z  821.780800     x         1  8.910096e+18   \n",
       "1        2022-11-23T20:40:00.017Z  821.821700     x         1  8.910096e+18   \n",
       "2        2022-11-23T20:40:00.029Z  821.850700     x         1  8.910096e+18   \n",
       "3        2022-11-23T20:40:00.041Z  821.896400     x         1  8.910096e+18   \n",
       "4        2022-11-23T20:40:00.053Z  821.957300     x         1  8.910096e+18   \n",
       "...                           ...         ...   ...       ...           ...   \n",
       "1546586   2022-11-23T20:41:17.59Z  -85.692373    fx         1  1.240519e+19   \n",
       "1546587    2022-11-23T20:41:17.6Z  -87.231436    fx         1  1.240519e+19   \n",
       "1546588   2022-11-23T20:41:17.61Z  -85.649405    fx         1  1.240519e+19   \n",
       "1546589   2022-11-23T20:41:17.62Z  -86.430655    fx         1  1.240519e+19   \n",
       "1546590   2022-11-23T20:41:17.63Z  -86.477530    fx         1  1.240519e+19   \n",
       "\n",
       "        sensor_type  \n",
       "0           encoder  \n",
       "1           encoder  \n",
       "2           encoder  \n",
       "3           encoder  \n",
       "4           encoder  \n",
       "...             ...  \n",
       "1546586   load_cell  \n",
       "1546587   load_cell  \n",
       "1546588   load_cell  \n",
       "1546589   load_cell  \n",
       "1546590   load_cell  \n",
       "\n",
       "[1546591 rows x 6 columns]"
      ]
     },
     "execution_count": 52,
     "metadata": {},
     "output_type": "execute_result"
    }
   ],
   "source": [
    "df"
   ]
  },
  {
   "cell_type": "code",
   "execution_count": 4,
   "metadata": {},
   "outputs": [],
   "source": [
    "def convert_time(x):\n",
    "    ms_pattern = '\\d{4}-[1-9]{2}-[1-9]{2}T\\d{2}:\\d{2}:\\d{2}\\.\\d*Z'\n",
    "    sec_pattern = '\\d{4}-[1-9]{2}-[1-9]{2}T\\d{2}:\\d{2}:\\d{2}Z'\n",
    "    if re.match(ms_pattern, x):\n",
    "        return datetime.strptime(x, '%Y-%m-%dT%H:%M:%S.%fZ')\n",
    "    elif re.match(sec_pattern, x):\n",
    "        return datetime.strptime(x, '%Y-%m-%dT%H:%M:%SZ')\n",
    "    else:\n",
    "        return np.nan"
   ]
  },
  {
   "attachments": {},
   "cell_type": "markdown",
   "metadata": {},
   "source": [
    "There's no NaN values in this dataset, but we can assume if there is any NaN or misformatted time, we should drop that datapoint. "
   ]
  },
  {
   "cell_type": "code",
   "execution_count": 5,
   "metadata": {},
   "outputs": [
    {
     "name": "stdout",
     "output_type": "stream",
     "text": [
      "0\n"
     ]
    }
   ],
   "source": [
    "df['pdtimestamp'] = pd.to_datetime(df['time']) # .apply(convert_time)\n",
    "print(df.isna().sum().sum())\n",
    "df.dropna(inplace=True)"
   ]
  },
  {
   "cell_type": "code",
   "execution_count": 188,
   "metadata": {},
   "outputs": [
    {
     "name": "stdout",
     "output_type": "stream",
     "text": [
      "Index(['time', 'value', 'field', 'robot_id', 'run_uuid', 'sensor_type',\n",
      "       'pdtimestamp'],\n",
      "      dtype='object')\n",
      "<class 'str'>\n",
      "<class 'numpy.float64'>\n",
      "<class 'str'>\n",
      "<class 'numpy.int64'>\n",
      "<class 'numpy.float64'>\n",
      "<class 'str'>\n",
      "<class 'pandas._libs.tslibs.timestamps.Timestamp'>\n"
     ]
    }
   ],
   "source": [
    "print(df.keys())\n",
    "for key in df.keys():\n",
    "    print(type(df[key][0]))\n",
    "\n"
   ]
  },
  {
   "cell_type": "code",
   "execution_count": 197,
   "metadata": {},
   "outputs": [
    {
     "name": "stdout",
     "output_type": "stream",
     "text": [
      "2022-11-23 20:47:54.335000+00:00\n",
      "                         time        value field  robot_id      run_uuid  \\\n",
      "826527   2022-11-23T20:41:17Z   481.628401    fx         1  7.582293e+18   \n",
      "886528   2022-11-23T20:41:17Z    43.796801    fy         1  7.582293e+18   \n",
      "946529   2022-11-23T20:41:17Z -1724.591704    fz         1  7.582293e+18   \n",
      "1546527  2022-11-23T20:41:17Z   -84.243155    fx         1  1.240519e+19   \n",
      "\n",
      "        sensor_type               pdtimestamp  \n",
      "826527    load_cell 2022-11-23 20:41:17+00:00  \n",
      "886528    load_cell 2022-11-23 20:41:17+00:00  \n",
      "946529    load_cell 2022-11-23 20:41:17+00:00  \n",
      "1546527   load_cell 2022-11-23 20:41:17+00:00  \n"
     ]
    }
   ],
   "source": [
    "print(df.loc[489546,'pdtimestamp'])\n",
    "print(df[df['time'] == '2022-11-23T20:41:17Z']) # datetime.strptime('2022-11-23T20:41:17.0Z', '%Y-%m-%dT%H:%M:%S.%fZ')])"
   ]
  },
  {
   "attachments": {},
   "cell_type": "markdown",
   "metadata": {},
   "source": [
    "## 2.1 Understanding the data\n",
    "There are 4 unique parts in the file.\n",
    "\n",
    "Encoder values:\n",
    "min: -771.633000  => origin \n",
    "max: 3298.350000  => 3.3m"
   ]
  },
  {
   "cell_type": "code",
   "execution_count": 8,
   "metadata": {},
   "outputs": [
    {
     "name": "stdout",
     "output_type": "stream",
     "text": [
      "<class 'numpy.float64'>\n",
      "7582293080991469568.000000\n",
      "number of unique run_uuid: 4\n",
      "encoder value range: -771.633 3298.35 832.5900511217878 1017.6780462582361\n",
      "encoder x range: 693.1998 3298.35 1766.8628798119391 945.2264532660514\n",
      "encoder y range: 316.6191 1233.344 761.1501298024627 291.9608832441766\n",
      "encoder z range: -771.633 -1.7623 -211.72249812725988 291.06528403344475\n",
      "load cell value range: -1848.4186083984373 875.1750048828125 -186.3552420897327 582.9076181212096\n",
      "load cell fx range: -1718.656328125 663.8337231445313 -237.26581814432706 511.97422031637404\n",
      "load cell fy range: -957.0925732421877 875.1750048828125 82.21266780450689 450.50478231733763\n",
      "load cell fz range: -1848.4186083984373 90.85765502929686 -402.36561879401137 659.7890037699254\n"
     ]
    }
   ],
   "source": [
    "print(type(df['run_uuid'][0]))\n",
    "# count number of unique run_uuid\n",
    "unique_run_uuid = df['run_uuid'].unique()\n",
    "print(f'{unique_run_uuid[1]:20f}')\n",
    "print('number of unique run_uuid:', len(unique_run_uuid))\n",
    "\n",
    "\n",
    "# get average of each sensor type\n",
    "# by_sensor_type = df.groupby('sensor_type')['value']\n",
    "# print(by_sensor_type.min(), by_sensor_type.max(), by_sensor_type.mean(), by_sensor_type.std())\n",
    "\n",
    "\n",
    "# get x, y, z for encoder sensor type\n",
    "encoder = df[df['sensor_type'] == 'encoder']\n",
    "print('encoder value range:', encoder['value'].min(), encoder['value'].max(), encoder['value'].mean(), encoder['value'].std())\n",
    "x = encoder[encoder['field']=='x']\n",
    "print('encoder x range:', x['value'].min(), x['value'].max(), x['value'].mean(), x['value'].std())\n",
    "y = encoder[encoder['field']=='y']\n",
    "print('encoder y range:', y['value'].min(), y['value'].max(), y['value'].mean(), y['value'].std())\n",
    "z = encoder[encoder['field']=='z']\n",
    "print('encoder z range:', z['value'].min(), z['value'].max(), z['value'].mean(), z['value'].std())\n",
    "\n",
    "\n",
    "# get x, y, z for load_cell sensor type\n",
    "load_cell = df[df['sensor_type'] == 'load_cell']\n",
    "print('load cell value range:', load_cell['value'].min(), load_cell['value'].max(), load_cell['value'].mean(), load_cell['value'].std())\n",
    "fx = load_cell[load_cell['field']=='fx']\n",
    "print('load cell fx range:', fx['value'].min(), fx['value'].max(), fx['value'].mean(), fx['value'].std())\n",
    "fy = load_cell[load_cell['field']=='fy']\n",
    "print('load cell fy range:', fy['value'].min(), fy['value'].max(), fy['value'].mean(), fy['value'].std())\n",
    "fz = load_cell[load_cell['field']=='fz']\n",
    "print('load cell fz range:', fz['value'].min(), fz['value'].max(), fz['value'].mean(), fz['value'].std())\n",
    "\n"
   ]
  },
  {
   "cell_type": "code",
   "execution_count": 10,
   "metadata": {},
   "outputs": [
    {
     "name": "stdout",
     "output_type": "stream",
     "text": [
      "number of unique timestamps: 386359\n"
     ]
    }
   ],
   "source": [
    "# print unique timestamp values\n",
    "print('number of unique timestamps:', len(df['time'].unique()))"
   ]
  },
  {
   "attachments": {},
   "cell_type": "markdown",
   "metadata": {},
   "source": [
    "## 2.2 Timeseries -> Features"
   ]
  },
  {
   "cell_type": "code",
   "execution_count": 19,
   "metadata": {},
   "outputs": [
    {
     "data": {
      "text/html": [
       "<div>\n",
       "<style scoped>\n",
       "    .dataframe tbody tr th:only-of-type {\n",
       "        vertical-align: middle;\n",
       "    }\n",
       "\n",
       "    .dataframe tbody tr th {\n",
       "        vertical-align: top;\n",
       "    }\n",
       "\n",
       "    .dataframe thead th {\n",
       "        text-align: right;\n",
       "    }\n",
       "</style>\n",
       "<table border=\"1\" class=\"dataframe\">\n",
       "  <thead>\n",
       "    <tr style=\"text-align: right;\">\n",
       "      <th></th>\n",
       "      <th>run_uuid</th>\n",
       "      <th>time</th>\n",
       "      <th>fx_1</th>\n",
       "      <th>fx_2</th>\n",
       "      <th>fy_1</th>\n",
       "      <th>fy_2</th>\n",
       "      <th>fz_1</th>\n",
       "      <th>fz_2</th>\n",
       "      <th>x_1</th>\n",
       "      <th>x_2</th>\n",
       "      <th>y_1</th>\n",
       "      <th>y_2</th>\n",
       "      <th>z_1</th>\n",
       "      <th>z_2</th>\n",
       "    </tr>\n",
       "  </thead>\n",
       "  <tbody>\n",
       "  </tbody>\n",
       "</table>\n",
       "</div>"
      ],
      "text/plain": [
       "Empty DataFrame\n",
       "Columns: [run_uuid, time, fx_1, fx_2, fy_1, fy_2, fz_1, fz_2, x_1, x_2, y_1, y_2, z_1, z_2]\n",
       "Index: []"
      ]
     },
     "execution_count": 19,
     "metadata": {},
     "output_type": "execute_result"
    }
   ],
   "source": [
    "# convert time series to x, y, z measurements\n",
    "# create a new dataframe with column names: | time | fx_1 | fx_2 | fy_1 | fy_2 | fz_1 | fz_2 | x_1 | x_2 | y_1 | y_2 | z_1 | z_2 |\n",
    "\n",
    "features = pd.DataFrame({\n",
    "    'run_uuid': pd.Series(dtype=np.float64),\n",
    "    'time': pd.Series(dtype=str), # df['time'].unique(),\n",
    "    'fx_1': pd.Series(dtype=np.float64),\n",
    "    'fx_2': pd.Series(dtype=np.float64),\n",
    "    'fy_1': pd.Series(dtype=np.float64),\n",
    "    'fy_2': pd.Series(dtype=np.float64),\n",
    "    'fz_1': pd.Series(dtype=np.float64),\n",
    "    'fz_2': pd.Series(dtype=np.float64),\n",
    "    'x_1': pd.Series(dtype=np.float64),\n",
    "    'x_2': pd.Series(dtype=np.float64),\n",
    "    'y_1': pd.Series(dtype=np.float64),\n",
    "    'y_2': pd.Series(dtype=np.float64),\n",
    "    'z_1': pd.Series(dtype=np.float64),\n",
    "    'z_2': pd.Series(dtype=np.float64)\n",
    "})\n",
    "features"
   ]
  },
  {
   "cell_type": "code",
   "execution_count": 6,
   "metadata": {},
   "outputs": [],
   "source": [
    "uuidtime = df.groupby(['run_uuid','pdtimestamp'])\n",
    "time = df.groupby(['time'])"
   ]
  },
  {
   "cell_type": "code",
   "execution_count": 186,
   "metadata": {},
   "outputs": [
    {
     "name": "stdout",
     "output_type": "stream",
     "text": [
      "489547\n",
      "386359\n"
     ]
    }
   ],
   "source": [
    "print(len(uuidtime.groups))\n",
    "print(len(time.groups))"
   ]
  },
  {
   "cell_type": "code",
   "execution_count": null,
   "metadata": {},
   "outputs": [],
   "source": []
  },
  {
   "cell_type": "code",
   "execution_count": null,
   "metadata": {},
   "outputs": [],
   "source": [
    "\n",
    "            # 'fx_1':row[1]['value'] if row[1]['field'] == 'fx' and row[1]['robot_id'] == 1 else np.nan,\n",
    "            # 'fx_2':row[1]['value'] if row[1]['field'] == 'fx' and row[1]['robot_id'] == 2 else np.nan,\n",
    "            # 'fy_1':row[1]['value'] if row[1]['field'] == 'fy' and row[1]['robot_id'] == 1 else np.nan,\n",
    "            # 'fy_2':row[1]['value'] if row[1]['field'] == 'fy' and row[1]['robot_id'] == 2 else np.nan,\n",
    "            # 'fz_1':row[1]['value'] if row[1]['field'] == 'fz' and row[1]['robot_id'] == 1 else np.nan,\n",
    "            # 'fz_2':row[1]['value'] if row[1]['field'] == 'fz' and row[1]['robot_id'] == 2 else np.nan,\n",
    "            # 'x_1':row[1]['value'] if row[1]['field'] == 'x' and row[1]['robot_id'] == 1 else np.nan,\n",
    "            # 'x_2':row[1]['value'] if row[1]['field'] == 'x' and row[1]['robot_id'] == 2 else np.nan,\n",
    "            # 'y_1':row[1]['value'] if row[1]['field'] == 'y' and row[1]['robot_id'] == 1 else np.nan,\n",
    "            # 'y_2':row[1]['value'] if row[1]['field'] == 'y' and row[1]['robot_id'] == 2 else np.nan,\n",
    "            # 'z_1':row[1]['value'] if row[1]['field'] == 'z' and row[1]['robot_id'] == 1 else np.nan,\n",
    "            # 'z_2':row[1]['value'] if row[1]['field'] == 'z' and row[1]['robot_id'] == 2 else np.nan\n",
    "\n",
    "        # if feature[1]['field'] == 'fx' and feature[1]['robot_id'] == 1:\n",
    "        #     row['fx_1'] = feature[1]['value']\n",
    "        # elif feature[1]['field'] == 'fx' and feature[1]['robot_id'] == 2:\n",
    "        #     row['fx_2'] = feature[1]['value']\n",
    "        # elif feature[1]['field'] == 'fy' and feature[1]['robot_id'] == 1:\n",
    "        #     row['fy_1'] = feature[1]['value']\n",
    "        # elif feature[1]['field'] == 'fy' and feature[1]['robot_id'] == 2:\n",
    "        #     row['fy_2'] = feature[1]['value']\n",
    "        # elif feature[1]['field'] == 'fz' and feature[1]['robot_id'] == 1:\n",
    "        #     row['fz_1'] = feature[1]['value']\n",
    "        # elif feature[1]['field'] == 'fz' and feature[1]['robot_id'] == 2:\n",
    "        #     row['fz_2'] = feature[1]['value']\n",
    "        # elif feature[1]['field'] == 'x' and feature[1]['robot_id'] == 1:\n",
    "        #     row['x_1'] = feature[1]['value']\n",
    "        # elif feature[1]['field'] == 'x' and feature[1]['robot_id'] == 2:\n",
    "        #     row['x_2'] = feature[1]['value']\n",
    "        # elif feature[1]['field'] == 'y' and feature[1]['robot_id'] == 1:\n",
    "        #     row['y_1'] = feature[1]['value']\n",
    "        # elif feature[1]['field'] == 'y' and feature[1]['robot_id'] == 2:\n",
    "        #     row['y_2'] = feature[1]['value']\n",
    "        # elif feature[1]['field'] == 'z' and feature[1]['robot_id'] == 1:\n",
    "        #     row['z_1'] = feature[1]['value']\n",
    "        # elif feature[1]['field'] == 'z' and feature[1]['robot_id'] == 2:\n",
    "        #     row['z_2'] = feature[1]['value']"
   ]
  },
  {
   "cell_type": "code",
   "execution_count": 7,
   "metadata": {},
   "outputs": [],
   "source": [
    "# TODO error checking: \n",
    "# assume no duplicate fields for a given timestamp\n",
    "# TODO benchmark this function, make it faster\n",
    "# assume time series is sorted by time\n",
    "rows = []\n",
    "# indexes = []\n",
    "for group_index, group_fields in uuidtime:\n",
    "    # index = pd.Series({'run_uuid':group_index[0], \n",
    "    #         'time':group_index[1]})\n",
    "    row = pd.Series({\n",
    "            'run_uuid':group_index[0], \n",
    "            'pddatetime':group_index[1],\n",
    "            'fx_1': np.nan,\n",
    "            'fx_2': np.nan,\n",
    "            'fy_1': np.nan,\n",
    "            'fy_2': np.nan,\n",
    "            'fz_1': np.nan,\n",
    "            'fz_2': np.nan,\n",
    "            'x_1':  np.nan,\n",
    "            'x_2':  np.nan,\n",
    "            'y_1':  np.nan,\n",
    "            'y_2':  np.nan,\n",
    "            'z_1':  np.nan,\n",
    "            'z_2':  np.nan\n",
    "        })\n",
    "    for i, feature in group_fields.iterrows():\n",
    "        # use field and robot_id to determine which column to populate\n",
    "        # -> need to check if column name exists\n",
    "        field_name = feature['field'] + '_' + str(feature['robot_id'])\n",
    "        # if field_name in row.index:\n",
    "        row[field_name] = feature['value']\n",
    "    # indexes.append(index)\n",
    "    rows.append(row)\n",
    "    \n"
   ]
  },
  {
   "cell_type": "code",
   "execution_count": null,
   "metadata": {},
   "outputs": [],
   "source": [
    "\n"
   ]
  },
  {
   "cell_type": "code",
   "execution_count": 8,
   "metadata": {},
   "outputs": [
    {
     "name": "stdout",
     "output_type": "stream",
     "text": [
      "489547\n",
      "            run_uuid                       pddatetime         fx_1  \\\n",
      "200151  7.582293e+18 2022-11-23 20:40:00.001000+00:00 -1192.046953   \n",
      "200152  7.582293e+18 2022-11-23 20:40:00.003000+00:00          NaN   \n",
      "481783  1.240519e+19 2022-11-23 20:40:00.003000+00:00   -88.747061   \n",
      "392042  8.910096e+18 2022-11-23 20:40:00.005000+00:00          NaN   \n",
      "0       6.176977e+18 2022-11-23 20:40:00.007000+00:00   176.096381   \n",
      "\n",
      "              fx_2        fy_1        fy_2         fz_1       fz_2       x_1  \\\n",
      "200151         NaN  716.528276         NaN -1547.340972        NaN       NaN   \n",
      "200152 -546.669903         NaN  489.207227          NaN  84.484822       NaN   \n",
      "481783         NaN         NaN         NaN          NaN        NaN       NaN   \n",
      "392042         NaN         NaN         NaN          NaN        NaN  821.7808   \n",
      "0              NaN  174.268623         NaN  -258.179417        NaN       NaN   \n",
      "\n",
      "        x_2       y_1  y_2     z_1  z_2  \n",
      "200151  NaN       NaN  NaN     NaN  NaN  \n",
      "200152  NaN       NaN  NaN     NaN  NaN  \n",
      "481783  NaN       NaN  NaN     NaN  NaN  \n",
      "392042  NaN  326.5256  NaN -1.8051  NaN  \n",
      "0       NaN       NaN  NaN     NaN  NaN  \n"
     ]
    }
   ],
   "source": [
    "# indexes = pd.MultiIndex.from_tuples(indexes, names=['run_uuid', 'time'])\n",
    "# features = pd.DataFrame(rows, index=indexes)\n",
    "features = pd.DataFrame(rows)\n",
    "features.sort_values(by='pddatetime', inplace=True)\n",
    "print(len(features))\n",
    "print(features.head())"
   ]
  },
  {
   "cell_type": "code",
   "execution_count": 229,
   "metadata": {},
   "outputs": [],
   "source": [
    "# TODO figure out how to resample the time so that it is evenly spaced\n",
    "# features['pddatetime'] = features.resample('5L', on='pddatetime')"
   ]
  },
  {
   "attachments": {},
   "cell_type": "markdown",
   "metadata": {},
   "source": [
    "### Interpolate missing values\n",
    "A few different ways I thought we could fill in the missing values:\n",
    "- naive: squish groups of readings together, use the average of timestamp of robot 1 and 2's position measurement \n",
    "    - position measurement because they are the most critical "
   ]
  },
  {
   "cell_type": "code",
   "execution_count": 9,
   "metadata": {},
   "outputs": [
    {
     "name": "stderr",
     "output_type": "stream",
     "text": [
      "/var/folders/zm/zbtv1rbj3ndg9ctssd4tcm080000gn/T/ipykernel_1401/1967778286.py:8: FutureWarning: In a future version of pandas, a length 1 tuple will be returned when iterating over a groupby with a grouper equal to a list of length 1. Don't supply a list with a single grouper to avoid this warning.\n",
      "  for run_id, run_data in feat_groups:\n"
     ]
    }
   ],
   "source": [
    "# how to combine the different measurements into a single row?\n",
    "\n",
    "# sort by time\n",
    "# while all fields are not filled, keep taking the next measurement and fill in the fields\n",
    "# if there are multiple measurements for a given field, take the last one\n",
    "table_by_uuid = {}\n",
    "feat_groups = features.groupby(['run_uuid'])\n",
    "for run_id, run_data in feat_groups:\n",
    "    run_data.sort_values(by='pddatetime', ascending=True, inplace=True)\n",
    "    for measurement_name in ['fx_1', 'fx_2', 'fy_1', 'fy_2', 'fz_1', 'fz_2', 'x_1', 'x_2', 'y_1', 'y_2', 'z_1', 'z_2']:\n",
    "        run_data[measurement_name] = run_data[measurement_name].interpolate(method='linear')\n",
    "    run_data.to_csv(f'../data/features_interpolated_run{run_id}.csv', index=True)\n",
    "    table_by_uuid[run_id] = run_data\n"
   ]
  },
  {
   "cell_type": "code",
   "execution_count": 244,
   "metadata": {},
   "outputs": [
    {
     "name": "stdout",
     "output_type": "stream",
     "text": [
      "6.176976534744076e+18\n",
      "       run_uuid                       pddatetime        fx_1       fx_2  \\\n",
      "0  6.176977e+18 2022-11-23 20:40:00.007000+00:00  176.096381        NaN   \n",
      "1  6.176977e+18 2022-11-23 20:40:00.008000+00:00  176.685607        NaN   \n",
      "2  6.176977e+18 2022-11-23 20:40:00.010000+00:00  177.274833  50.373027   \n",
      "3  6.176977e+18 2022-11-23 20:40:00.011000+00:00  177.864059  50.502727   \n",
      "4  6.176977e+18 2022-11-23 20:40:00.017000+00:00  178.453284  50.632427   \n",
      "\n",
      "         fy_1        fy_2        fz_1       fz_2      x_1       x_2      y_1  \\\n",
      "0  174.268623         NaN -258.179417        NaN      NaN       NaN      NaN   \n",
      "1  173.786072         NaN -258.501301        NaN      NaN  1438.412      NaN   \n",
      "2  173.303520 -416.060405 -258.823185  80.691381      NaN  1438.412      NaN   \n",
      "3  172.820969 -415.747946 -259.145069  80.698552  1440.79  1438.412  936.925   \n",
      "4  172.338417 -415.435487 -259.466953  80.705724  1440.79  1438.412  936.925   \n",
      "\n",
      "       y_2     z_1  z_2  \n",
      "0      NaN     NaN  NaN  \n",
      "1  939.383     NaN  NaN  \n",
      "2  939.383     NaN  NaN  \n",
      "3  939.383 -222.29  NaN  \n",
      "4  939.383 -222.29  NaN  \n",
      "7.58229308099147e+18\n",
      "            run_uuid                       pddatetime         fx_1  \\\n",
      "200151  7.582293e+18 2022-11-23 20:40:00.001000+00:00 -1192.046953   \n",
      "200152  7.582293e+18 2022-11-23 20:40:00.003000+00:00 -1192.611162   \n",
      "200153  7.582293e+18 2022-11-23 20:40:00.008000+00:00 -1193.175371   \n",
      "200154  7.582293e+18 2022-11-23 20:40:00.009000+00:00 -1193.739580   \n",
      "200155  7.582293e+18 2022-11-23 20:40:00.011000+00:00 -1194.303789   \n",
      "\n",
      "              fx_2        fy_1        fy_2         fz_1       fz_2       x_1  \\\n",
      "200151         NaN  716.528276         NaN -1547.340972        NaN       NaN   \n",
      "200152 -546.669903  716.018389  489.207227 -1547.325957  84.484822       NaN   \n",
      "200153 -547.196438  715.508501  489.229962 -1547.310942  83.530789  2862.302   \n",
      "200154 -547.722973  714.998613  489.252698 -1547.295928  82.576756  2862.302   \n",
      "200155 -548.249509  714.488726  489.275433 -1547.280913  81.622723  2862.302   \n",
      "\n",
      "             x_2        y_1       y_2       z_1      z_2  \n",
      "200151       NaN        NaN       NaN       NaN      NaN  \n",
      "200152       NaN        NaN       NaN       NaN      NaN  \n",
      "200153       NaN  995.86000       NaN -48.56500      NaN  \n",
      "200154  3050.773  995.86475  1000.769 -48.56575 -771.632  \n",
      "200155  3050.773  995.86950  1000.769 -48.56650 -771.632  \n",
      "8.910095844186657e+18\n",
      "            run_uuid                       pddatetime  fx_1  fx_2  fy_1  fy_2  \\\n",
      "392042  8.910096e+18 2022-11-23 20:40:00.005000+00:00   NaN   NaN   NaN   NaN   \n",
      "392043  8.910096e+18 2022-11-23 20:40:00.008000+00:00   NaN   NaN   NaN   NaN   \n",
      "392044  8.910096e+18 2022-11-23 20:40:00.017000+00:00   NaN   NaN   NaN   NaN   \n",
      "392045  8.910096e+18 2022-11-23 20:40:00.020000+00:00   NaN   NaN   NaN   NaN   \n",
      "392046  8.910096e+18 2022-11-23 20:40:00.029000+00:00   NaN   NaN   NaN   NaN   \n",
      "\n",
      "        fz_1  fz_2        x_1        x_2        y_1        y_2      z_1  \\\n",
      "392042   NaN   NaN  821.78080        NaN  326.52560        NaN -1.80510   \n",
      "392043   NaN   NaN  821.80125  823.29060  326.53430  320.51030 -1.80535   \n",
      "392044   NaN   NaN  821.82170  823.31600  326.54300  320.51635 -1.80560   \n",
      "392045   NaN   NaN  821.83620  823.34140  326.55065  320.52240 -1.80970   \n",
      "392046   NaN   NaN  821.85070  823.36435  326.55830  320.52885 -1.81380   \n",
      "\n",
      "           z_2  \n",
      "392042     NaN  \n",
      "392043 -2.9101  \n",
      "392044 -2.9132  \n",
      "392045 -2.9163  \n",
      "392046 -2.9157  \n",
      "1.2405186538561671e+19\n",
      "            run_uuid                       pddatetime       fx_1  fx_2  fy_1  \\\n",
      "481783  1.240519e+19 2022-11-23 20:40:00.003000+00:00 -88.747061   NaN   NaN   \n",
      "481784  1.240519e+19 2022-11-23 20:40:00.013000+00:00 -91.774405   NaN   NaN   \n",
      "481785  1.240519e+19 2022-11-23 20:40:00.023000+00:00 -90.149405   NaN   NaN   \n",
      "481786  1.240519e+19 2022-11-23 20:40:00.033000+00:00 -85.747061   NaN   NaN   \n",
      "481787  1.240519e+19 2022-11-23 20:40:00.043000+00:00 -90.184561   NaN   NaN   \n",
      "\n",
      "        fy_2  fz_1  fz_2  x_1  x_2  y_1  y_2  z_1  z_2  \n",
      "481783   NaN   NaN   NaN  NaN  NaN  NaN  NaN  NaN  NaN  \n",
      "481784   NaN   NaN   NaN  NaN  NaN  NaN  NaN  NaN  NaN  \n",
      "481785   NaN   NaN   NaN  NaN  NaN  NaN  NaN  NaN  NaN  \n",
      "481786   NaN   NaN   NaN  NaN  NaN  NaN  NaN  NaN  NaN  \n",
      "481787   NaN   NaN   NaN  NaN  NaN  NaN  NaN  NaN  NaN  \n"
     ]
    }
   ],
   "source": [
    "for k in table_by_uuid:\n",
    "    print(k)\n",
    "    print(table_by_uuid[k].head())"
   ]
  },
  {
   "cell_type": "markdown",
   "metadata": {},
   "source": []
  },
  {
   "cell_type": "code",
   "execution_count": 137,
   "metadata": {},
   "outputs": [
    {
     "data": {
      "text/html": [
       "<div>\n",
       "<style scoped>\n",
       "    .dataframe tbody tr th:only-of-type {\n",
       "        vertical-align: middle;\n",
       "    }\n",
       "\n",
       "    .dataframe tbody tr th {\n",
       "        vertical-align: top;\n",
       "    }\n",
       "\n",
       "    .dataframe thead th {\n",
       "        text-align: right;\n",
       "    }\n",
       "</style>\n",
       "<table border=\"1\" class=\"dataframe\">\n",
       "  <thead>\n",
       "    <tr style=\"text-align: right;\">\n",
       "      <th></th>\n",
       "      <th>run_uuid</th>\n",
       "      <th>time</th>\n",
       "      <th>fx_1</th>\n",
       "      <th>fx_2</th>\n",
       "      <th>fy_1</th>\n",
       "      <th>fy_2</th>\n",
       "      <th>fz_1</th>\n",
       "      <th>fz_2</th>\n",
       "      <th>x_1</th>\n",
       "      <th>x_2</th>\n",
       "      <th>y_1</th>\n",
       "      <th>y_2</th>\n",
       "      <th>z_1</th>\n",
       "      <th>z_2</th>\n",
       "    </tr>\n",
       "  </thead>\n",
       "  <tbody>\n",
       "    <tr>\n",
       "      <th>200151</th>\n",
       "      <td>7.582293e+18</td>\n",
       "      <td>2022-11-23T20:40:00.001Z</td>\n",
       "      <td>-1192.046953</td>\n",
       "      <td>NaN</td>\n",
       "      <td>716.528276</td>\n",
       "      <td>NaN</td>\n",
       "      <td>-1547.340972</td>\n",
       "      <td>NaN</td>\n",
       "      <td>NaN</td>\n",
       "      <td>NaN</td>\n",
       "      <td>NaN</td>\n",
       "      <td>NaN</td>\n",
       "      <td>NaN</td>\n",
       "      <td>NaN</td>\n",
       "    </tr>\n",
       "    <tr>\n",
       "      <th>200152</th>\n",
       "      <td>7.582293e+18</td>\n",
       "      <td>2022-11-23T20:40:00.003Z</td>\n",
       "      <td>NaN</td>\n",
       "      <td>-546.669903</td>\n",
       "      <td>NaN</td>\n",
       "      <td>489.207227</td>\n",
       "      <td>NaN</td>\n",
       "      <td>84.484822</td>\n",
       "      <td>NaN</td>\n",
       "      <td>NaN</td>\n",
       "      <td>NaN</td>\n",
       "      <td>NaN</td>\n",
       "      <td>NaN</td>\n",
       "      <td>NaN</td>\n",
       "    </tr>\n",
       "    <tr>\n",
       "      <th>200153</th>\n",
       "      <td>7.582293e+18</td>\n",
       "      <td>2022-11-23T20:40:00.008Z</td>\n",
       "      <td>NaN</td>\n",
       "      <td>NaN</td>\n",
       "      <td>NaN</td>\n",
       "      <td>NaN</td>\n",
       "      <td>NaN</td>\n",
       "      <td>NaN</td>\n",
       "      <td>2862.302</td>\n",
       "      <td>NaN</td>\n",
       "      <td>995.86</td>\n",
       "      <td>NaN</td>\n",
       "      <td>-48.565</td>\n",
       "      <td>NaN</td>\n",
       "    </tr>\n",
       "    <tr>\n",
       "      <th>200154</th>\n",
       "      <td>7.582293e+18</td>\n",
       "      <td>2022-11-23T20:40:00.009Z</td>\n",
       "      <td>NaN</td>\n",
       "      <td>NaN</td>\n",
       "      <td>NaN</td>\n",
       "      <td>NaN</td>\n",
       "      <td>NaN</td>\n",
       "      <td>NaN</td>\n",
       "      <td>NaN</td>\n",
       "      <td>3050.773</td>\n",
       "      <td>NaN</td>\n",
       "      <td>1000.769</td>\n",
       "      <td>NaN</td>\n",
       "      <td>-771.632</td>\n",
       "    </tr>\n",
       "    <tr>\n",
       "      <th>200155</th>\n",
       "      <td>7.582293e+18</td>\n",
       "      <td>2022-11-23T20:40:00.011Z</td>\n",
       "      <td>-1194.303789</td>\n",
       "      <td>NaN</td>\n",
       "      <td>714.488726</td>\n",
       "      <td>NaN</td>\n",
       "      <td>-1547.280913</td>\n",
       "      <td>NaN</td>\n",
       "      <td>NaN</td>\n",
       "      <td>NaN</td>\n",
       "      <td>NaN</td>\n",
       "      <td>NaN</td>\n",
       "      <td>NaN</td>\n",
       "      <td>NaN</td>\n",
       "    </tr>\n",
       "  </tbody>\n",
       "</table>\n",
       "</div>"
      ],
      "text/plain": [
       "            run_uuid                      time         fx_1        fx_2  \\\n",
       "200151  7.582293e+18  2022-11-23T20:40:00.001Z -1192.046953         NaN   \n",
       "200152  7.582293e+18  2022-11-23T20:40:00.003Z          NaN -546.669903   \n",
       "200153  7.582293e+18  2022-11-23T20:40:00.008Z          NaN         NaN   \n",
       "200154  7.582293e+18  2022-11-23T20:40:00.009Z          NaN         NaN   \n",
       "200155  7.582293e+18  2022-11-23T20:40:00.011Z -1194.303789         NaN   \n",
       "\n",
       "              fy_1        fy_2         fz_1       fz_2       x_1       x_2  \\\n",
       "200151  716.528276         NaN -1547.340972        NaN       NaN       NaN   \n",
       "200152         NaN  489.207227          NaN  84.484822       NaN       NaN   \n",
       "200153         NaN         NaN          NaN        NaN  2862.302       NaN   \n",
       "200154         NaN         NaN          NaN        NaN       NaN  3050.773   \n",
       "200155  714.488726         NaN -1547.280913        NaN       NaN       NaN   \n",
       "\n",
       "           y_1       y_2     z_1      z_2  \n",
       "200151     NaN       NaN     NaN      NaN  \n",
       "200152     NaN       NaN     NaN      NaN  \n",
       "200153  995.86       NaN -48.565      NaN  \n",
       "200154     NaN  1000.769     NaN -771.632  \n",
       "200155     NaN       NaN     NaN      NaN  "
      ]
     },
     "execution_count": 137,
     "metadata": {},
     "output_type": "execute_result"
    }
   ],
   "source": [
    "features[features['run_uuid'] == 7582293080991469568].head()"
   ]
  },
  {
   "attachments": {},
   "cell_type": "markdown",
   "metadata": {},
   "source": [
    "## 2.3 Engineered Features"
   ]
  },
  {
   "cell_type": "code",
   "execution_count": 10,
   "metadata": {},
   "outputs": [
    {
     "name": "stdout",
     "output_type": "stream",
     "text": [
      "0      NaN\n",
      "1    0.001\n",
      "2    0.002\n",
      "3    0.001\n",
      "4    0.006\n",
      "Name: pddatetime, dtype: float64\n",
      "200151      NaN\n",
      "200152    0.002\n",
      "200153    0.005\n",
      "200154    0.001\n",
      "200155    0.002\n",
      "Name: pddatetime, dtype: float64\n",
      "392042      NaN\n",
      "392043    0.003\n",
      "392044    0.009\n",
      "392045    0.003\n",
      "392046    0.009\n",
      "Name: pddatetime, dtype: float64\n",
      "481783     NaN\n",
      "481784    0.01\n",
      "481785    0.01\n",
      "481786    0.01\n",
      "481787    0.01\n",
      "Name: pddatetime, dtype: float64\n"
     ]
    }
   ],
   "source": [
    "\n",
    "# assume total values are cumulative\n",
    "# create a series with column names: vx_1, vy_1, vz_1, vx_2, vy_2, vz_2, ax_1, ay_1, az_1, ax_2, ay_2, az_2, v1, v2, a1, a2, f1, f2\n",
    "rows = []\n",
    "\n",
    "\n",
    "# x1 = features[['run_uuid', 'time', 'fx_1']].dropna()\n",
    "# x1['time_obj'] = x1['time'].apply(convert_time)\n",
    "# x1['fx_1'].diff()\n",
    "engineered_features_by_uuid = {}\n",
    "for run_uuid in table_by_uuid:\n",
    "    run_data = table_by_uuid[run_uuid]\n",
    "    engr_feat = pd.DataFrame() # columns=['pddatetime', 'vx_1', 'vy_1', 'vz_1', 'vx_2', 'vy_2', 'vz_2', 'ax_1', 'ay_1', 'az_1', 'ax_2', 'ay_2', 'az_2', 'v1', 'v2', 'a1', 'a2', 'f1', 'f2', ''])\n",
    "    engr_feat['pddatetime'] = run_data['pddatetime']\n",
    "    engr_feat['dt'] = run_data['pddatetime'].diff().dt.total_seconds() * 1000\n",
    "\n",
    "    print(run_data['pddatetime'].diff().dt.total_seconds().head())\n",
    "    engr_feat['vx_1'] = run_data['x_1'].diff() \n",
    "    engr_feat['vy_1'] = run_data['y_1'].diff() \n",
    "    engr_feat['vz_1'] = run_data['z_1'].diff() \n",
    "    engr_feat['vx_2'] = run_data['x_2'].diff() \n",
    "    engr_feat['vy_2'] = run_data['y_2'].diff() \n",
    "    engr_feat['vz_2'] = run_data['z_2'].diff() \n",
    "\n",
    "    engr_feat['ax_1'] = engr_feat['vx_1'].diff() \n",
    "    engr_feat['ay_1'] = engr_feat['vy_1'].diff() \n",
    "    engr_feat['az_1'] = engr_feat['vz_1'].diff() \n",
    "    engr_feat['ax_2'] = engr_feat['vx_2'].diff() \n",
    "    engr_feat['ay_2'] = engr_feat['vy_2'].diff() \n",
    "    engr_feat['az_2'] = engr_feat['vz_2'].diff() \n",
    "\n",
    "    engr_feat['p_1_sum'] = np.sqrt(run_data['x_1']**2 + run_data['y_1']**2 + run_data['z_1']**2)\n",
    "    engr_feat['p_2_sum'] = np.sqrt(run_data['x_2']**2 + run_data['y_2']**2 + run_data['z_2']**2)\n",
    "    engr_feat['v_1_sum'] = np.sqrt(engr_feat['vx_1']**2 + engr_feat['vy_1']**2 + engr_feat['vz_1']**2)\n",
    "    engr_feat['v_2_sum'] = np.sqrt(engr_feat['vx_2']**2 + engr_feat['vy_2']**2 + engr_feat['vz_2']**2)\n",
    "    engr_feat['a_1_sum'] = np.sqrt(engr_feat['ax_1']**2 + engr_feat['ay_1']**2 + engr_feat['az_1']**2)\n",
    "    engr_feat['a_2_sum'] = np.sqrt(engr_feat['ax_2']**2 + engr_feat['ay_2']**2 + engr_feat['az_2']**2)\n",
    "    engr_feat['f_1_sum'] = np.sqrt(run_data['fx_1']**2 + run_data['fy_1']**2 + run_data['fz_1']**2)\n",
    "    engr_feat['f_2_sum'] = np.sqrt(run_data['fx_2']**2 + run_data['fy_2']**2 + run_data['fz_2']**2)\n",
    "\n",
    "    engr_feat['p1'] = engr_feat['p_1_sum'].cumsum()\n",
    "    engr_feat['p2'] = engr_feat['p_2_sum'].cumsum()\n",
    "    engr_feat['v1'] = engr_feat['v_1_sum'].cumsum()\n",
    "    engr_feat['v2'] = engr_feat['v_2_sum'].cumsum()\n",
    "    engr_feat['a1'] = engr_feat['a_1_sum'].cumsum()\n",
    "    engr_feat['a2'] = engr_feat['a_2_sum'].cumsum()\n",
    "    engr_feat['f1'] = engr_feat['f_1_sum'].cumsum()\n",
    "    engr_feat['f2'] = engr_feat['f_2_sum'].cumsum()\n",
    "\n",
    "    engineered_features_by_uuid[run_uuid] = engr_feat\n",
    "    engr_feat.to_csv(f'../data/engr_feat_{run_uuid}.csv')\n",
    "    "
   ]
  },
  {
   "cell_type": "code",
   "execution_count": null,
   "metadata": {},
   "outputs": [],
   "source": []
  },
  {
   "cell_type": "code",
   "execution_count": 167,
   "metadata": {},
   "outputs": [
    {
     "name": "stdout",
     "output_type": "stream",
     "text": [
      "2022-11-23 20:41:17.630000\n",
      "2022-11-23 20:41:17.600000\n",
      "2022-11-23 20:41:17\n"
     ]
    }
   ],
   "source": [
    "print(x1.loc[489544,'time_obj'])\n",
    "print(x1.loc[489545,'time_obj'])\n",
    "print(x1.loc[489546,'time_obj'])"
   ]
  },
  {
   "cell_type": "code",
   "execution_count": 168,
   "metadata": {},
   "outputs": [
    {
     "name": "stdout",
     "output_type": "stream",
     "text": [
      "-1 days +23:59:59.970000\n"
     ]
    }
   ],
   "source": [
    "print(x1.loc[489545,'time_obj'] - x1.loc[489544,'time_obj'])"
   ]
  },
  {
   "cell_type": "code",
   "execution_count": 157,
   "metadata": {},
   "outputs": [],
   "source": [
    "d = datetime.strptime('2022-11-23T20:40:00.007Z', '%Y-%m-%dT%H:%M:%S.%fZ')\n",
    "\n",
    "\n"
   ]
  },
  {
   "cell_type": "code",
   "execution_count": null,
   "metadata": {},
   "outputs": [],
   "source": []
  }
 ],
 "metadata": {
  "kernelspec": {
   "display_name": "machina-labs",
   "language": "python",
   "name": "python3"
  },
  "language_info": {
   "codemirror_mode": {
    "name": "ipython",
    "version": 3
   },
   "file_extension": ".py",
   "mimetype": "text/x-python",
   "name": "python",
   "nbconvert_exporter": "python",
   "pygments_lexer": "ipython3",
   "version": "3.10.8 | packaged by conda-forge | (main, Nov 22 2022, 08:25:13) [Clang 14.0.6 ]"
  },
  "orig_nbformat": 4,
  "vscode": {
   "interpreter": {
    "hash": "e9fbbb6b00702454f7d63349d5f00da4365e15347a9af1c95cde180700e4ef48"
   }
  }
 },
 "nbformat": 4,
 "nbformat_minor": 2
}
